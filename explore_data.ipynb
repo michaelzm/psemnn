{
 "cells": [
  {
   "cell_type": "code",
   "execution_count": 1,
   "metadata": {},
   "outputs": [],
   "source": [
    "import pandas as pd\n",
    "import numpy as np\n",
    "import matplotlib.pyplot as plt\n",
    "from keras.utils import to_categorical\n",
    "from keras.models import Model, Input\n",
    "from keras.layers import LSTM, Embedding, Dense, TimeDistributed, Dropout, Bidirectional\n",
    "from sklearn.model_selection import train_test_split\n",
    "from keras.preprocessing.sequence import pad_sequences"
   ]
  },
  {
   "cell_type": "code",
   "execution_count": 93,
   "metadata": {},
   "outputs": [],
   "source": [
    "def getKeyOfValue(val_):\n",
    "    for key in word2idx.keys():\n",
    "        if word2idx[key] == val_:\n",
    "            print(key)"
   ]
  },
  {
   "cell_type": "code",
   "execution_count": 94,
   "metadata": {},
   "outputs": [
    {
     "name": "stdout",
     "output_type": "stream",
     "text": [
      "is\n",
      "None\n"
     ]
    }
   ],
   "source": [
    "#word2idx[\"is\"]\n",
    "print(getKeyOfValue(1494))"
   ]
  },
  {
   "cell_type": "code",
   "execution_count": null,
   "metadata": {},
   "outputs": [],
   "source": []
  },
  {
   "cell_type": "code",
   "execution_count": 2,
   "metadata": {},
   "outputs": [],
   "source": [
    "data = pd.read_csv(\"ner_dataset.csv\", encoding = \"latin1\")"
   ]
  },
  {
   "cell_type": "code",
   "execution_count": 3,
   "metadata": {},
   "outputs": [],
   "source": [
    "data = data.fillna(method=\"ffill\")"
   ]
  },
  {
   "cell_type": "code",
   "execution_count": 4,
   "metadata": {},
   "outputs": [
    {
     "data": {
      "text/html": [
       "<div>\n",
       "<style scoped>\n",
       "    .dataframe tbody tr th:only-of-type {\n",
       "        vertical-align: middle;\n",
       "    }\n",
       "\n",
       "    .dataframe tbody tr th {\n",
       "        vertical-align: top;\n",
       "    }\n",
       "\n",
       "    .dataframe thead th {\n",
       "        text-align: right;\n",
       "    }\n",
       "</style>\n",
       "<table border=\"1\" class=\"dataframe\">\n",
       "  <thead>\n",
       "    <tr style=\"text-align: right;\">\n",
       "      <th></th>\n",
       "      <th>Sentence #</th>\n",
       "      <th>Word</th>\n",
       "      <th>POS</th>\n",
       "      <th>Tag</th>\n",
       "    </tr>\n",
       "  </thead>\n",
       "  <tbody>\n",
       "    <tr>\n",
       "      <th>0</th>\n",
       "      <td>Sentence: 1</td>\n",
       "      <td>Thousands</td>\n",
       "      <td>NNS</td>\n",
       "      <td>O</td>\n",
       "    </tr>\n",
       "    <tr>\n",
       "      <th>1</th>\n",
       "      <td>Sentence: 1</td>\n",
       "      <td>of</td>\n",
       "      <td>IN</td>\n",
       "      <td>O</td>\n",
       "    </tr>\n",
       "    <tr>\n",
       "      <th>2</th>\n",
       "      <td>Sentence: 1</td>\n",
       "      <td>demonstrators</td>\n",
       "      <td>NNS</td>\n",
       "      <td>O</td>\n",
       "    </tr>\n",
       "    <tr>\n",
       "      <th>3</th>\n",
       "      <td>Sentence: 1</td>\n",
       "      <td>have</td>\n",
       "      <td>VBP</td>\n",
       "      <td>O</td>\n",
       "    </tr>\n",
       "    <tr>\n",
       "      <th>4</th>\n",
       "      <td>Sentence: 1</td>\n",
       "      <td>marched</td>\n",
       "      <td>VBN</td>\n",
       "      <td>O</td>\n",
       "    </tr>\n",
       "    <tr>\n",
       "      <th>...</th>\n",
       "      <td>...</td>\n",
       "      <td>...</td>\n",
       "      <td>...</td>\n",
       "      <td>...</td>\n",
       "    </tr>\n",
       "    <tr>\n",
       "      <th>95</th>\n",
       "      <td>Sentence: 5</td>\n",
       "      <td>'s</td>\n",
       "      <td>POS</td>\n",
       "      <td>O</td>\n",
       "    </tr>\n",
       "    <tr>\n",
       "      <th>96</th>\n",
       "      <td>Sentence: 5</td>\n",
       "      <td>ruling</td>\n",
       "      <td>VBG</td>\n",
       "      <td>O</td>\n",
       "    </tr>\n",
       "    <tr>\n",
       "      <th>97</th>\n",
       "      <td>Sentence: 5</td>\n",
       "      <td>Labor</td>\n",
       "      <td>NNP</td>\n",
       "      <td>B-org</td>\n",
       "    </tr>\n",
       "    <tr>\n",
       "      <th>98</th>\n",
       "      <td>Sentence: 5</td>\n",
       "      <td>Party</td>\n",
       "      <td>NNP</td>\n",
       "      <td>I-org</td>\n",
       "    </tr>\n",
       "    <tr>\n",
       "      <th>99</th>\n",
       "      <td>Sentence: 5</td>\n",
       "      <td>in</td>\n",
       "      <td>IN</td>\n",
       "      <td>O</td>\n",
       "    </tr>\n",
       "  </tbody>\n",
       "</table>\n",
       "<p>100 rows × 4 columns</p>\n",
       "</div>"
      ],
      "text/plain": [
       "     Sentence #           Word  POS    Tag\n",
       "0   Sentence: 1      Thousands  NNS      O\n",
       "1   Sentence: 1             of   IN      O\n",
       "2   Sentence: 1  demonstrators  NNS      O\n",
       "3   Sentence: 1           have  VBP      O\n",
       "4   Sentence: 1        marched  VBN      O\n",
       "..          ...            ...  ...    ...\n",
       "95  Sentence: 5             's  POS      O\n",
       "96  Sentence: 5         ruling  VBG      O\n",
       "97  Sentence: 5          Labor  NNP  B-org\n",
       "98  Sentence: 5          Party  NNP  I-org\n",
       "99  Sentence: 5             in   IN      O\n",
       "\n",
       "[100 rows x 4 columns]"
      ]
     },
     "execution_count": 4,
     "metadata": {},
     "output_type": "execute_result"
    }
   ],
   "source": [
    "data.head(100)"
   ]
  },
  {
   "cell_type": "code",
   "execution_count": 5,
   "metadata": {
    "scrolled": true
   },
   "outputs": [],
   "source": [
    "words = list(set(data[\"Word\"].values))"
   ]
  },
  {
   "cell_type": "code",
   "execution_count": 6,
   "metadata": {},
   "outputs": [],
   "source": [
    "words.append(\"ENDPAD\")"
   ]
  },
  {
   "cell_type": "code",
   "execution_count": 7,
   "metadata": {},
   "outputs": [
    {
     "data": {
      "text/plain": [
       "35179"
      ]
     },
     "execution_count": 7,
     "metadata": {},
     "output_type": "execute_result"
    }
   ],
   "source": [
    "n_words = len(words); n_words"
   ]
  },
  {
   "cell_type": "code",
   "execution_count": 8,
   "metadata": {},
   "outputs": [],
   "source": [
    "tags = list(set(data[\"Tag\"].values))"
   ]
  },
  {
   "cell_type": "code",
   "execution_count": 9,
   "metadata": {},
   "outputs": [
    {
     "data": {
      "text/plain": [
       "17"
      ]
     },
     "execution_count": 9,
     "metadata": {},
     "output_type": "execute_result"
    }
   ],
   "source": [
    "n_tags = len(tags); n_tags"
   ]
  },
  {
   "cell_type": "code",
   "execution_count": 10,
   "metadata": {},
   "outputs": [],
   "source": [
    "class SentenceGetter(object):\n",
    "    \n",
    "    def __init__(self, data):\n",
    "        self.n_sent = 1\n",
    "        self.data = data\n",
    "        self.empty = False\n",
    "        agg_func = lambda s: [(w, p, t) for w, p, t in zip(s[\"Word\"].values.tolist(),\n",
    "                                                           s[\"POS\"].values.tolist(),\n",
    "                                                           s[\"Tag\"].values.tolist())]\n",
    "        self.grouped = self.data.groupby(\"Sentence #\").apply(agg_func)\n",
    "        self.sentences = [s for s in self.grouped]\n",
    "    \n",
    "    def get_next(self):\n",
    "        try:\n",
    "            s = self.grouped[\"Sentence: {}\".format(self.n_sent)]\n",
    "            self.n_sent += 1\n",
    "            return s\n",
    "        except:\n",
    "            return None\n",
    "    def getSentencePercentage(self, flt):\n",
    "        dataset_size = len(self.sentences)\n",
    "        ret = []\n",
    "        for i,s in enumerate(self.sentences):\n",
    "            if i < dataset_size*flt:\n",
    "                ret.append(s)\n",
    "        return ret"
   ]
  },
  {
   "cell_type": "code",
   "execution_count": 11,
   "metadata": {},
   "outputs": [],
   "source": [
    "getter = SentenceGetter(data)"
   ]
  },
  {
   "cell_type": "code",
   "execution_count": 12,
   "metadata": {},
   "outputs": [],
   "source": [
    "sent = getter.get_next()"
   ]
  },
  {
   "cell_type": "code",
   "execution_count": 13,
   "metadata": {},
   "outputs": [
    {
     "name": "stdout",
     "output_type": "stream",
     "text": [
      "47959\n"
     ]
    }
   ],
   "source": [
    "sentences = getter.sentences\n",
    "print(len(sentences))\n",
    "len_sent = len(sentences)\n"
   ]
  },
  {
   "cell_type": "code",
   "execution_count": 14,
   "metadata": {},
   "outputs": [],
   "source": [
    "plt.style.use(\"ggplot\")"
   ]
  },
  {
   "cell_type": "code",
   "execution_count": 15,
   "metadata": {},
   "outputs": [
    {
     "data": {
      "image/png": "[encoded data removed]",
      "text/plain": [
       "<Figure size 432x288 with 1 Axes>"
      ]
     },
     "metadata": {},
     "output_type": "display_data"
    }
   ],
   "source": [
    "plt.hist([len(s) for s in sentences], bins=50)\n",
    "plt.show()"
   ]
  },
  {
   "cell_type": "code",
   "execution_count": 162,
   "metadata": {},
   "outputs": [
    {
     "name": "stdout",
     "output_type": "stream",
     "text": [
      "47959\n",
      "4796\n",
      "4792\n",
      "4793\n",
      "4794\n",
      "4795\n",
      "x train 4316\n",
      "y train 4316\n",
      "x test 480\n",
      "y test 480\n",
      "\n",
      "words_sub 11334\n",
      "tags 17\n",
      "tags_sub 17\n"
     ]
    }
   ],
   "source": [
    "#here we use the defined amount of sentences\n",
    "#print(len(sentences))\n",
    "\n",
    "print(len_sent)\n",
    "percentage_s = 0.1\n",
    "sentences = getter.getSentencePercentage(percentage_s)\n",
    "print(len(sentences))\n",
    "\n",
    "#amount of sentences\n",
    "words_sub = set()\n",
    "tags_sub = set()\n",
    "\n",
    "#get words of (partial) sentences and convert into indices\n",
    "for i,s in enumerate(sentences):\n",
    "    if i > len(sentences)-5:\n",
    "        print(i)\n",
    "    for w in s:\n",
    "        words_sub.add(w[0])\n",
    "        tags_sub.add(w[2])\n",
    "max_len = 50\n",
    "words_sub_list = list(words_sub)\n",
    "words_sub_list.append(\"ENDPAD\")\n",
    "\n",
    "\n",
    "word2idx = {w: i for i, w in enumerate(words_sub_list)}\n",
    "tag2idx = {t:i for i, t in enumerate(tags_sub)}\n",
    "\n",
    "#generate dataset to split up later on\n",
    "X = []\n",
    "Y = []\n",
    "for s in sentences:\n",
    "    x_arr = []\n",
    "    y_arr = []\n",
    "    for w in s:\n",
    "        x_arr.append(word2idx[w[0]])\n",
    "        y_arr.append(tag2idx[w[2]])\n",
    "    X.append(x_arr)\n",
    "    Y.append(y_arr)\n",
    "\n",
    "#convert to list to get access to indices\n",
    "tags_sub = list(tags_sub)\n",
    "n_words_sub = len(words_sub_list)\n",
    "n_tags_sub = len(tags_sub)\n",
    "\n",
    "\n",
    "X_pad = pad_sequences(maxlen=max_len, sequences=X, padding=\"post\", value=n_words_sub-1)\n",
    "\n",
    "#padd up data\n",
    "Y_pad = pad_sequences(maxlen=max_len, sequences=Y, padding=\"post\", value=tag2idx[\"O\"])\n",
    "Y_pad_cat = [to_categorical(i, num_classes=n_tags) for i in Y_pad]\n",
    "\n",
    "X_tr, X_te, y_tr, y_te = train_test_split(X_pad, Y_pad_cat, test_size=0.1, shuffle=False)        \n",
    "\n",
    "\n",
    "print(\"x train \"+str(len(X_tr)))\n",
    "print(\"y train \"+str(len(y_tr)))\n",
    "print(\"x test \"+str(len(X_te)))\n",
    "print(\"y test \"+str(len(y_te))+\"\\n\")\n",
    "print(\"words_sub \"+str(n_words_sub))\n",
    "print(\"tags \"+str(n_tags))\n",
    "print(\"tags_sub \"+str(n_tags_sub))"
   ]
  },
  {
   "cell_type": "code",
   "execution_count": 149,
   "metadata": {},
   "outputs": [
    {
     "name": "stdout",
     "output_type": "stream",
     "text": [
      "11334\n",
      "11334\n",
      "ENDPAD\n"
     ]
    }
   ],
   "source": [
    "print(len(words_sub_list))\n",
    "print(n_words_sub)\n",
    "print(words_sub_list[11333])"
   ]
  },
  {
   "cell_type": "code",
   "execution_count": 129,
   "metadata": {},
   "outputs": [
    {
     "name": "stdout",
     "output_type": "stream",
     "text": [
      "Irishman\n",
      "None\n",
      "11334\n",
      "None\n"
     ]
    }
   ],
   "source": [
    "print(getKeyOfValue(1))\n",
    "print(n_words_sub)\n",
    "print(getKeyOfValue(11334))"
   ]
  },
  {
   "cell_type": "code",
   "execution_count": 118,
   "metadata": {},
   "outputs": [
    {
     "name": "stdout",
     "output_type": "stream",
     "text": [
      "Irishman\n",
      "None\n",
      "None\n",
      "Thousands\n",
      "None\n",
      "of\n",
      "None\n",
      "demonstrators\n",
      "None\n",
      "have\n",
      "None\n",
      "marched\n",
      "None\n",
      "through\n",
      "None\n",
      "London\n",
      "None\n",
      "to\n",
      "None\n",
      "protest\n",
      "None\n",
      "the\n",
      "None\n",
      "war\n",
      "None\n",
      "in\n",
      "None\n",
      "Iraq\n",
      "None\n",
      "and\n",
      "None\n",
      "demand\n",
      "None\n",
      "the\n",
      "None\n",
      "withdrawal\n",
      "None\n",
      "of\n",
      "None\n",
      "British\n",
      "None\n",
      "troops\n",
      "None\n",
      "from\n",
      "None\n",
      "that\n",
      "None\n",
      "country\n",
      "None\n",
      ".\n",
      "None\n",
      "None\n",
      "None\n",
      "None\n",
      "None\n",
      "None\n",
      "None\n",
      "None\n",
      "None\n",
      "None\n",
      "None\n",
      "None\n",
      "None\n",
      "None\n",
      "None\n",
      "None\n",
      "None\n",
      "None\n",
      "None\n",
      "None\n",
      "None\n",
      "None\n",
      "None\n",
      "None\n",
      "None\n",
      "None\n",
      "None\n"
     ]
    }
   ],
   "source": [
    "print(getKeyOfValue(1))\n",
    "print(getKeyOfValue(n_words_sub-1))\n",
    "for u in X_tr[0]:\n",
    "    print(getKeyOfValue(u))\n",
    "\n",
    "    \n"
   ]
  },
  {
   "cell_type": "markdown",
   "metadata": {},
   "source": [
    "## was bis jetzt machen?\n",
    "\n",
    "- wir übergeben sätze statt nur einzelne wörter\n",
    "- diese sätze beinhalten wörter und labels\n",
    "\n",
    "- diese sätze werden auf ein bestimmtes padding (50) aufgefuellt, da keras inputs mit derselben laenge voraussetzt\n",
    "- die saetze werden wiederum codiert: woerter werden als idx uebergeben, d.h. gleiche woerter haben als repraesentation dieselbe zahl\n",
    "- die tags / labels werden ebenfalls als idx codiert, allerdings im anschluss noch kategorisiert (keras import)\n",
    "\n",
    "### was aendern wir hier?\n",
    "- ein word embedding würde dann hier jedoch die wörter in den sätzen selbst noch als 300d-vektor repräsentieren, statt einem einfachen idx"
   ]
  },
  {
   "cell_type": "markdown",
   "metadata": {},
   "source": [
    "## MODEL CONFIG"
   ]
  },
  {
   "cell_type": "code",
   "execution_count": 150,
   "metadata": {},
   "outputs": [],
   "source": [
    "input = Input(shape=(max_len,))\n",
    "#n_words\n",
    "model = Embedding(input_dim=n_words_sub, output_dim=50, input_length=max_len)(input)  # 50-dim embedding\n",
    "model = Dropout(0.1)(model)\n",
    "model = Bidirectional(LSTM(units=100, return_sequences=True, recurrent_dropout=0.1))(model)  # variational biLSTM\n",
    "out = TimeDistributed(Dense(n_tags_sub, activation=\"softmax\"))(model)  # softmax output layer\n",
    "\n",
    "\n",
    "model = Model(input, out)\n",
    "model.compile(optimizer=\"rmsprop\", loss=\"categorical_crossentropy\", metrics=[\"accuracy\"])"
   ]
  },
  {
   "cell_type": "code",
   "execution_count": 178,
   "metadata": {},
   "outputs": [
    {
     "name": "stdout",
     "output_type": "stream",
     "text": [
      "Epoch 1/10\n",
      "122/122 [==============================] - 7s 55ms/step - loss: 0.2056 - accuracy: 0.9422 - val_loss: 0.1521 - val_accuracy: 0.9567\n",
      "Epoch 2/10\n",
      "122/122 [==============================] - 8s 63ms/step - loss: 0.1459 - accuracy: 0.9557 - val_loss: 0.1298 - val_accuracy: 0.9634\n",
      "Epoch 3/10\n",
      "122/122 [==============================] - 7s 57ms/step - loss: 0.1114 - accuracy: 0.9687 - val_loss: 0.1067 - val_accuracy: 0.9717\n",
      "Epoch 4/10\n",
      "122/122 [==============================] - 7s 59ms/step - loss: 0.0858 - accuracy: 0.9766 - val_loss: 0.0996 - val_accuracy: 0.9710\n",
      "Epoch 5/10\n",
      "122/122 [==============================] - 7s 55ms/step - loss: 0.0687 - accuracy: 0.9811 - val_loss: 0.0822 - val_accuracy: 0.9766\n",
      "Epoch 6/10\n",
      "122/122 [==============================] - 8s 63ms/step - loss: 0.0574 - accuracy: 0.9846 - val_loss: 0.0771 - val_accuracy: 0.9780\n",
      "Epoch 7/10\n",
      "122/122 [==============================] - 7s 59ms/step - loss: 0.0495 - accuracy: 0.9865 - val_loss: 0.0806 - val_accuracy: 0.9762\n",
      "Epoch 8/10\n",
      "122/122 [==============================] - 7s 57ms/step - loss: 0.0434 - accuracy: 0.9880 - val_loss: 0.0749 - val_accuracy: 0.9781\n",
      "Epoch 9/10\n",
      "122/122 [==============================] - 7s 55ms/step - loss: 0.0386 - accuracy: 0.9894 - val_loss: 0.0725 - val_accuracy: 0.9790\n",
      "Epoch 10/10\n",
      "122/122 [==============================] - 7s 60ms/step - loss: 0.0347 - accuracy: 0.9903 - val_loss: 0.0745 - val_accuracy: 0.9780\n"
     ]
    }
   ],
   "source": [
    "history = model.fit(X_tr, np.array(y_tr), batch_size=32, epochs=10, validation_split=0.1, verbose=1)"
   ]
  },
  {
   "cell_type": "code",
   "execution_count": 179,
   "metadata": {},
   "outputs": [
    {
     "name": "stdout",
     "output_type": "stream",
     "text": [
      "       loss  accuracy  val_loss  val_accuracy\n",
      "0  0.205616  0.942183  0.152071      0.956667\n",
      "1  0.145854  0.955731  0.129799      0.963426\n",
      "2  0.111402  0.968692  0.106720      0.971667\n",
      "3  0.085773  0.976555  0.099645      0.971018\n",
      "4  0.068709  0.981056  0.082177      0.976620\n",
      "5  0.057370  0.984557  0.077076      0.978009\n",
      "6  0.049517  0.986483  0.080612      0.976204\n",
      "7  0.043373  0.987981  0.074871      0.978056\n",
      "8  0.038552  0.989382  0.072516      0.978981\n",
      "9  0.034702  0.990324  0.074537      0.977963\n"
     ]
    }
   ],
   "source": [
    "hist = pd.DataFrame(history.history)\n",
    "print(hist)"
   ]
  },
  {
   "cell_type": "code",
   "execution_count": 180,
   "metadata": {},
   "outputs": [
    {
     "data": {
      "image/png": "[encoded data removed]",
      "text/plain": [
       "<Figure size 864x864 with 1 Axes>"
      ]
     },
     "metadata": {},
     "output_type": "display_data"
    }
   ],
   "source": [
    "plt.figure(figsize=(12,12))\n",
    "plt.plot(hist[\"accuracy\"])\n",
    "plt.plot(hist[\"val_accuracy\"])\n",
    "plt.show()"
   ]
  },
  {
   "cell_type": "code",
   "execution_count": 147,
   "metadata": {},
   "outputs": [
    {
     "name": "stdout",
     "output_type": "stream",
     "text": [
      "5551\n"
     ]
    }
   ],
   "source": [
    "print(word2idx[\"Later\"])"
   ]
  },
  {
   "cell_type": "code",
   "execution_count": 181,
   "metadata": {},
   "outputs": [
    {
     "name": "stdout",
     "output_type": "stream",
     "text": [
      "Word            (True ): Pred\n",
      "Later          : O\n",
      ",              : O\n",
      "Saddam         : B-per\n",
      "Hussein        : I-per\n",
      "is             : O\n",
      "expected       : O\n",
      "to             : O\n",
      "be             : O\n",
      "tried          : O\n",
      "for            : O\n",
      "other          : O\n",
      "alleged        : O\n",
      "crimes         : O\n",
      ",              : O\n",
      "including      : O\n",
      "the            : O\n",
      "1988           : B-tim\n",
      "gassing        : I-org\n",
      "of             : O\n",
      "Kurds          : B-geo\n",
      "in             : O\n",
      "Halabja        : B-geo\n",
      "and            : O\n",
      "the            : O\n",
      "1991           : B-tim\n",
      "suppression    : O\n",
      "of             : O\n",
      "a              : O\n",
      "Shi'ite        : B-org\n",
      "uprising       : O\n",
      "in             : O\n",
      "southern       : B-geo\n",
      "Iraq           : I-geo\n",
      ".              : O\n",
      "ENDPAD         : O\n",
      "ENDPAD         : O\n",
      "ENDPAD         : O\n",
      "ENDPAD         : O\n",
      "ENDPAD         : O\n",
      "ENDPAD         : O\n",
      "ENDPAD         : O\n",
      "ENDPAD         : O\n",
      "ENDPAD         : O\n",
      "ENDPAD         : O\n",
      "ENDPAD         : O\n",
      "ENDPAD         : O\n",
      "ENDPAD         : O\n",
      "ENDPAD         : O\n",
      "ENDPAD         : O\n",
      "ENDPAD         : O\n",
      "\n",
      "\n",
      "Later          : B-tim\n",
      ",              : O\n",
      "Saddam         : B-per\n",
      "Hussein        : I-per\n",
      "is             : O\n",
      "expected       : O\n",
      "to             : O\n",
      "be             : O\n",
      "tried          : O\n",
      "for            : O\n",
      "other          : O\n",
      "alleged        : O\n",
      "crimes         : O\n",
      ",              : O\n",
      "including      : O\n",
      "the            : O\n",
      "1988           : B-tim\n",
      "gassing        : O\n",
      "of             : O\n",
      "Kurds          : B-geo\n",
      "in             : O\n",
      "Halabja        : B-geo\n",
      "and            : O\n",
      "the            : O\n",
      "1991           : B-tim\n",
      "suppression    : O\n",
      "of             : O\n",
      "a              : O\n",
      "Shi'ite        : O\n",
      "uprising       : O\n",
      "in             : O\n",
      "southern       : B-geo\n",
      "Iraq           : I-geo\n",
      ".              : O\n",
      "ENDPAD         : O\n",
      "ENDPAD         : O\n",
      "ENDPAD         : O\n",
      "ENDPAD         : O\n",
      "ENDPAD         : O\n",
      "ENDPAD         : O\n",
      "ENDPAD         : O\n",
      "ENDPAD         : O\n",
      "ENDPAD         : O\n",
      "ENDPAD         : O\n",
      "ENDPAD         : O\n",
      "ENDPAD         : O\n",
      "ENDPAD         : O\n",
      "ENDPAD         : O\n",
      "ENDPAD         : O\n",
      "ENDPAD         : O\n"
     ]
    }
   ],
   "source": [
    "i = 1\n",
    "p = model.predict(np.array([X_te[i]]))\n",
    "p = np.argmax(p, axis=-1)\n",
    "print(\"{:15} ({:5}): {}\".format(\"Word\", \"True\", \"Pred\"))\n",
    "#prediction\n",
    "for w, pred in zip(X_te[i], p[0]):\n",
    "    print(\"{:15}: {}\".format(words_sub_list[w], tags_sub[pred])) \n",
    "print(\"\\n\")\n",
    "#actual\n",
    "sauce = len(X_tr) + i\n",
    "for w, act in zip(X_pad[sauce], Y_pad[sauce]):\n",
    "    print(\"{:15}: {}\".format(words_sub_list[w], tags_sub[act])) "
   ]
  }
 ],
 "metadata": {
  "kernelspec": {
   "display_name": "Python 3",
   "language": "python",
   "name": "python3"
  },
  "language_info": {
   "codemirror_mode": {
    "name": "ipython",
    "version": 3
   },
   "file_extension": ".py",
   "mimetype": "text/x-python",
   "name": "python",
   "nbconvert_exporter": "python",
   "pygments_lexer": "ipython3",
   "version": "3.8.2"
  }
 },
 "nbformat": 4,
 "nbformat_minor": 4
}
