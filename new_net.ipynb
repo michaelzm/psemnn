{
 "cells": [
  {
   "cell_type": "code",
   "execution_count": 4,
   "metadata": {},
   "outputs": [],
   "source": [
    "import json\n",
    "import numpy as np\n",
    "import pandas as pd\n",
    "import os\n",
    "from tqdm import tqdm\n",
    "from tensorflow.keras import Input,Model\n",
    "from tensorflow.keras.layers import Dense, Embedding,  TimeDistributed\n",
    "from tensorflow.keras.utils import to_categorical\n",
    "import zipfile\n",
    "import pickle\n",
    "import matplotlib.pyplot as plt\n",
    "from sklearn.utils import class_weight\n",
    "from tensorflow.keras import backend as K"
   ]
  },
  {
   "cell_type": "code",
   "execution_count": 5,
   "metadata": {},
   "outputs": [],
   "source": [
    "np.random.seed(1234567890)"
   ]
  },
  {
   "cell_type": "code",
   "execution_count": 6,
   "metadata": {},
   "outputs": [],
   "source": [
    "# word embedding with GloVe: load embedding as a dict\n",
    "def load_embedding(filename_embedding,vocabulary,dim=300):\n",
    "    embedding = dict()\n",
    "    with open(filename_embedding,'r', encoding='utf8') as file:\n",
    "        token = '##padding_token##'\n",
    "        embedding[token] = dict()\n",
    "        embedding[token]['vector'] = np.asarray(np.random.rand(dim), dtype='float32')\n",
    "        embedding[token]['token_id'] = int(0)\n",
    "        token_id = 1\n",
    "        for line in tqdm(file):\n",
    "            parts = line.split()\n",
    "            token = parts[0]\n",
    "            if token in vocabulary:\n",
    "                embedding[token] = dict()\n",
    "                embedding[token]['vector'] = np.asarray(parts[1:], dtype='float32')\n",
    "                embedding[token]['token_id'] = int(token_id)\n",
    "                token_id += 1\n",
    "        # add embedding for unknown tokens\n",
    "        token = '##unknown_token##'\n",
    "        embedding[token] = dict()\n",
    "        embedding[token]['vector'] = np.asarray(np.random.rand(dim), dtype='float32')\n",
    "        embedding[token]['token_id'] = int(token_id)\n",
    "        \n",
    "    return embedding"
   ]
  },
  {
   "cell_type": "code",
   "execution_count": 7,
   "metadata": {},
   "outputs": [],
   "source": [
    "def convert_tokens_labels_list_to_ids_list(tokens_list, labels_list,embedding, max_seq_length,labelclass_to_id):\n",
    "    token_ids_list, label_ids_list = [], []\n",
    "    n_tags = len(list(labelclass_to_id.keys()))\n",
    "    for index in tqdm(range(len(tokens_list)), desc=\"Converting tokens & labels to ids \"):\n",
    "        tokens = tokens_list[index]\n",
    "        labels = labels_list[index]   \n",
    "        token_ids = []\n",
    "        for token in tokens:\n",
    "            if token not in embedding.keys():\n",
    "                token = '##unknown_token##'\n",
    "            token_ids.append(embedding[token]['token_id'])\n",
    "        label_ids = [labelclass_to_id[label] for label in labels]\n",
    "    \n",
    "        # Zero-pad up to the sequence length.\n",
    "        while len(token_ids) < max_seq_length:\n",
    "            token_ids.append(0)\n",
    "            label_ids.append(0)\n",
    "        token_ids_list.append(token_ids)\n",
    "        label_ids_list.append(label_ids)\n",
    "        \n",
    "    return (\n",
    "        np.array(token_ids_list),\n",
    "        to_categorical(np.array(label_ids_list), num_classes=n_tags),\n",
    "    )\n",
    "\n"
   ]
  },
  {
   "cell_type": "code",
   "execution_count": 22,
   "metadata": {},
   "outputs": [],
   "source": [
    "# import data\n",
    "# specify the type of information which shall be extracted\n",
    "#extraction_of = 'contexts'\n",
    "extraction_of = 'sentiments'\n",
    "#extraction_of = 'aspects'\n",
    "\n",
    "#sentiment, aspect oder modifier -> diese drei braucht man\n",
    "#extraktion von polarität nicht gefragt\n",
    "\n",
    "\n",
    "# specify filenames in the next line\n",
    "if extraction_of in ['contexts']:\n",
    "    filename = r'data_laptop_ctxt.json'\n",
    "elif extraction_of in ['sentiments','aspects']:\n",
    "    filename = r'data_laptop_absa.json'\n",
    "\n",
    "## in this example, we use the glove word embeddings as input for the neural network\n",
    "## download glove.42B.300d.txt from http://nlp.stanford.edu/data/glove.42B.300d.zip\n",
    "filename_embedding_zip = r'glove.42B.300d.zip' # folder of downloaded glove zip file\n",
    "## specify folder where to store the glove embeddings\n",
    "filepath_embedding = filename_embedding_zip.replace('.zip','')\n",
    "## unzip and save glove to a folder manually or with the next lines\n",
    "if not os.path.exists(filepath_embedding):\n",
    "    with zipfile.ZipFile(filename_embedding_zip,\"r\") as zip_ref:\n",
    "        zip_ref.extractall(filepath_embedding)\n",
    "os.listdir(filepath_embedding)[0]\n",
    "filename_embedding = filepath_embedding + '/' + os.listdir(filepath_embedding)[0]\n",
    "\n",
    "\n",
    "with open(filename,'r', encoding='utf8') as infile:\n",
    "    example_data = json.load(infile)\n"
   ]
  },
  {
   "cell_type": "code",
   "execution_count": 9,
   "metadata": {},
   "outputs": [],
   "source": [
    "for i,(k,v) in enumerate(example_data.items()):\n",
    "    #print(v.get(\"tokens\"))\n",
    "    tokens = v.get('tokens')\n",
    "    tokens = [token.lower() for token in tokens]\n",
    "    example_data[k]['tokens'] = tokens\n",
    "    #key is txtname\n"
   ]
  },
  {
   "cell_type": "markdown",
   "metadata": {},
   "source": [
    "### TRAIN TEST SPLIT"
   ]
  },
  {
   "cell_type": "code",
   "execution_count": 63,
   "metadata": {},
   "outputs": [
    {
     "name": "stdout",
     "output_type": "stream",
     "text": [
      "2945.0\n"
     ]
    }
   ],
   "source": [
    "# split 85 15 in train and test tokens\n",
    "#hier die ratio angeben\n",
    "train_test_ratio = 0.95\n",
    "len_dataset = len(example_data) -1\n",
    "\n",
    "split_size = len_dataset * train_test_ratio\n",
    "#split_size -> die anzahl an train datensätzen, rest ist test\n",
    "print(split_size)\n",
    "\n",
    "#hier wird dann anhand der ratio entschieden, ob der aktuelle satz zu train oder test gehört\n",
    "train_tokens = []\n",
    "test_tokens = []\n",
    "for i,(k,v) in  enumerate(example_data.items()):\n",
    "    if i < split_size: \n",
    "      train_tokens.append(v['tokens']) \n",
    "    else:\n",
    "      test_tokens.append(v['tokens'])\n",
    "\n"
   ]
  },
  {
   "cell_type": "markdown",
   "metadata": {},
   "source": [
    "---\n",
    "Ob man union oder inner join nutzt macht echt fast kein unterschied"
   ]
  },
  {
   "cell_type": "markdown",
   "metadata": {},
   "source": [
    "## ALL USER REVIEWS AS OWN SENTENCE\n",
    "- for that we need to insert each train token array the number of user who reviewed it"
   ]
  },
  {
   "cell_type": "code",
   "execution_count": 48,
   "metadata": {
    "jupyter": {
     "source_hidden": true
    }
   },
   "outputs": [
    {
     "name": "stdout",
     "output_type": "stream",
     "text": [
      "433\n",
      "8424\n"
     ]
    }
   ],
   "source": [
    "# split 85 15 in train and test tokens\n",
    "#hier die ratio angeben\n",
    "train_test_ratio = 0.95\n",
    "len_dataset = len(example_data) -1\n",
    "\n",
    "split_size = len_dataset * train_test_ratio\n",
    "#split_size -> die anzahl an train datensätzen, rest ist test\n",
    "\n",
    "#hier wird dann anhand der ratio entschieden, ob der aktuelle satz zu train oder test gehört\n",
    "train_tokens = []\n",
    "test_tokens = []\n",
    "for i,(k,v) in  enumerate(example_data.items()):\n",
    "    curr_users = [s for s in v.keys() if s != \"tokens\"]\n",
    "    insertMul = len(curr_users)\n",
    "    for doTimes in range(insertMul):\n",
    "        if i < split_size: \n",
    "          train_tokens.append(v['tokens']) \n",
    "        else:\n",
    "          test_tokens.append(v['tokens'])\n"
   ]
  },
  {
   "cell_type": "code",
   "execution_count": 49,
   "metadata": {},
   "outputs": [],
   "source": [
    "# this should be chagend: start\n",
    "# this should be chagend: end\n",
    "train_labels = list()\n",
    "test_labels = list()\n",
    "train_labels_uncertainty = list()\n",
    "for d_idx,(k,v) in enumerate(example_data.items()):\n",
    "    curr_users = [s for s in v.keys() if s !='tokens']         \n",
    "    #jetzt jeden user durchgehen und dessen labels anschauen -> wenn irgendwas außer \"O\", dann \n",
    "    #den oben erstellten array an dieser stelle mit dessen label ersetzen\n",
    "    for usr in curr_users:\n",
    "        #print(usr)\n",
    "        #print(v[usr][extraction_of])\n",
    "        if d_idx < split_size:\n",
    "          #davor v[curr_users[0]][extraction_of], jetzt merged_label\n",
    "          train_labels.append(v[usr][extraction_of])\n",
    "        else:\n",
    "          test_labels.append(v[usr][extraction_of])\n"
   ]
  },
  {
   "cell_type": "code",
   "execution_count": 51,
   "metadata": {},
   "outputs": [
    {
     "name": "stdout",
     "output_type": "stream",
     "text": [
      "8424\n",
      "433\n",
      "8424\n",
      "433\n"
     ]
    }
   ],
   "source": [
    "print(len(train_labels))\n",
    "print(len(test_labels))\n",
    "\n",
    "print(len(train_tokens))\n",
    "print(len(test_tokens))\n"
   ]
  },
  {
   "cell_type": "markdown",
   "metadata": {},
   "source": [
    "## UNION on users\n",
    "- always use the sentiment labeling of every user, even if only 1 out of n users labeled the token as sentiment "
   ]
  },
  {
   "cell_type": "code",
   "execution_count": 66,
   "metadata": {},
   "outputs": [],
   "source": [
    "# this should be chagend: start\n",
    "# this should be chagend: end\n",
    "train_labels = list()\n",
    "test_labels = list()\n",
    "train_labels_uncertainty = list()\n",
    "for d_idx,(k,v) in enumerate(example_data.items()):\n",
    "    curr_users = [s for s in v.keys() if s !='tokens']\n",
    "    \n",
    "    # UNION: ein leeres array erzeugen und mit \"O\" auffüllen\n",
    "    merged_label = []\n",
    "    for i in range(len(v[\"tokens\"])):\n",
    "        #now we have an label array with only O s\n",
    "            merged_label.insert(i, \"O\")\n",
    "            \n",
    "    #jetzt jeden user durchgehen und dessen labels anschauen -> wenn irgendwas außer \"O\", dann \n",
    "    #den oben erstellten array an dieser stelle mit dessen label ersetzen\n",
    "    for usr in curr_users:\n",
    "        #print(usr)\n",
    "        #print(v[usr][extraction_of])\n",
    "        for i,element in enumerate(v[usr][extraction_of]):\n",
    "                if(element != \"O\"):\n",
    "                    del merged_label[i]\n",
    "                    merged_label.insert(i, element)\n",
    "    #print(\"merged to: \" + str(merged_label))\n",
    "    if d_idx < split_size:\n",
    "      #davor v[curr_users[0]][extraction_of], jetzt merged_label\n",
    "      train_labels.append(merged_label)\n",
    "    else:\n",
    "      test_labels.append(merged_label)\n",
    "\n"
   ]
  },
  {
   "cell_type": "markdown",
   "metadata": {},
   "source": [
    "## INNER JOIN on users\n",
    "\n",
    "- only iff every user labeled the token the same way we use the labeled value, else we use O instead"
   ]
  },
  {
   "cell_type": "code",
   "execution_count": 65,
   "metadata": {},
   "outputs": [],
   "source": [
    "# this should be chagend: start\n",
    "# this should be chagend: end\n",
    "train_labels = list()\n",
    "test_labels = list()\n",
    "train_labels_uncertainty = list()\n",
    "for d_idx,(k,v) in enumerate(example_data.items()):\n",
    "    curr_users = [s for s in v.keys() if s !='tokens']\n",
    "    merged_label = []\n",
    "    for token_idx in range(len(v[\"tokens\"])):\n",
    "        #print(\"token \"+str(token_idx))\n",
    "        matching = True\n",
    "        #init on value of first user\n",
    "        holder = v[curr_users[0]][extraction_of][token_idx]\n",
    "        #only if all users have the same value, we insert the value\n",
    "        for user_idx in range(len(curr_users)):\n",
    "            #print(\"holder: \"+holder)\n",
    "            #print(\"current choice \"+ str(v[curr_users[user_idx]][extraction_of][token_idx]))\n",
    "            if not v[curr_users[user_idx]][extraction_of][token_idx] == holder:\n",
    "                matching = False\n",
    "        #means all users had the same labeling, so we can insert it\n",
    "        if matching:\n",
    "            merged_label.insert(token_idx, v[curr_users[0]][extraction_of][token_idx])\n",
    "        else:\n",
    "            #otherwise insert O\n",
    "            merged_label.insert(token_idx, \"O\")\n",
    "    #print(\"merged list\")\n",
    "    #print(merged_label)\n",
    "    if d_idx < split_size:\n",
    "      #davor v[curr_users[0]][extraction_of], jetzt merged_label\n",
    "      train_labels.append(merged_label)\n",
    "    else:\n",
    "      test_labels.append(merged_label)\n",
    "\n"
   ]
  },
  {
   "cell_type": "markdown",
   "metadata": {},
   "source": [
    "### Overview over TOKEN in train and test dataset"
   ]
  },
  {
   "cell_type": "code",
   "execution_count": 67,
   "metadata": {},
   "outputs": [
    {
     "name": "stdout",
     "output_type": "stream",
     "text": [
      "train test ratio 0.95\n",
      "train data review count: 2945\n",
      "test data review count: 156\n",
      "train token count: 51491\n",
      "test token count: 2860\n",
      "train details: {'0': 43278, 'B_S': 4807, 'I_S': 3406}\n",
      "test details: {'0': 2430, 'B_S': 255, 'I_S': 175}\n"
     ]
    }
   ],
   "source": [
    "print(\"train test ratio \"+str(train_test_ratio))\n",
    "print(\"train data review count: \"+str(len(train_labels)))\n",
    "print(\"test data review count: \"+str(len(test_labels)))\n",
    "sum_train_tokens = 0\n",
    "train_0_count = 0\n",
    "train_B_S_count = 0\n",
    "train_I_S_count = 0\n",
    "train_analysis = {\"0\":0, \"B_S\": 0, \"I_S\": 0}\n",
    "\n",
    "sum_test_tokens = 0\n",
    "test_analysis = {\"0\":0, \"B_S\": 0, \"I_S\": 0}\n",
    "\n",
    "#train analysis\n",
    "for i in range(len(train_labels)):\n",
    "    sum_train_tokens+=len(train_labels[i])\n",
    "    for tok in range(len(train_labels[i])):\n",
    "        token = train_labels[i][tok]\n",
    "        if token == \"O\":\n",
    "            train_analysis[\"0\"] += 1\n",
    "        elif token == \"B_S\":\n",
    "            train_analysis[\"B_S\"] += 1\n",
    "        else:\n",
    "            train_analysis[\"I_S\"] += 1\n",
    "\n",
    "#test analysis\n",
    "for i in range(len(test_labels)):\n",
    "    sum_test_tokens+=len(test_labels[i])\n",
    "    for tok in range(len(test_labels[i])):\n",
    "        token = test_labels[i][tok]\n",
    "        if token == \"O\":\n",
    "            test_analysis[\"0\"] += 1\n",
    "        elif token == \"B_S\":\n",
    "            test_analysis[\"B_S\"] += 1\n",
    "        else:\n",
    "            test_analysis[\"I_S\"] += 1\n",
    "print(\"train token count: \"+str(sum_train_tokens))\n",
    "print(\"test token count: \"+str(sum_test_tokens))\n",
    "print(\"train details: \"+str(train_analysis))\n",
    "print(\"test details: \"+str(test_analysis))"
   ]
  },
  {
   "cell_type": "markdown",
   "metadata": {},
   "source": [
    "### to get an idea of the data we use we can run this snippet"
   ]
  },
  {
   "cell_type": "code",
   "execution_count": 68,
   "metadata": {},
   "outputs": [
    {
     "name": "stdout",
     "output_type": "stream",
     "text": [
      "0\n",
      "labels ['O', 'O', 'B_S', 'O']\n",
      "tokens ['Computer', 'works', 'great', '.']\n",
      "1\n",
      "labels ['O', 'O', 'O', 'O', 'O', 'O', 'O', 'O', 'O', 'O', 'O', 'O', 'O', 'O', 'O', 'O', 'O', 'O', 'O', 'O', 'O', 'O', 'O', 'O', 'O', 'O', 'O', 'O', 'O', 'O', 'B_S', 'O', 'O', 'O', 'O', 'O', 'O', 'O', 'O', 'O', 'B_S', 'I_S', 'O']\n",
      "tokens ['Bough', 'this', 'for', 'the', 'google', 'goodies', 'offers', 'for', 'the', 'holidays', 'but', 'when', 'i', 'go', 'to', 'redeem', 'the', 'offers', 'from', 'the', 'google', 'website', ',', 'it', 'says', 'that', 'this', \"doesn't\", 'have', 'the', 'right', '\"', 'code', '\"', 'to', 'get', 'the', 'drive', 'storage', '.', 'sending', 'back', '.']\n",
      "2\n",
      "labels ['O', 'O', 'O', 'O', 'O', 'B_S', 'O', 'O', 'O', 'O', 'O', 'O', 'O']\n",
      "tokens ['I', 'am', 'surprised', 'by', 'how', 'well', 'this', 'unit', 'is', 'made', 'and', 'performs', '.']\n"
     ]
    }
   ],
   "source": [
    "for idx in range(0,3):\n",
    "    print(idx)\n",
    "    print(\"labels \"+ str(train_labels[idx]))\n",
    "    print(\"tokens \"+str(train_tokens[idx]))"
   ]
  },
  {
   "cell_type": "code",
   "execution_count": 69,
   "metadata": {},
   "outputs": [
    {
     "name": "stderr",
     "output_type": "stream",
     "text": [
      "Converting tokens & labels to ids : 100%|██████████| 2945/2945 [00:00<00:00, 38868.04it/s]\n",
      "Converting tokens & labels to ids : 100%|██████████| 156/156 [00:00<00:00, 39645.63it/s]\n"
     ]
    }
   ],
   "source": [
    "# generate vocabulary,token ids and embeddings for vocabulary\n",
    "vocabulary = set(['##unknown_token##','##padding_token##'])\n",
    "for v in example_data.values():\n",
    "    vocabulary.update(set(v['tokens']))\n",
    "vocabulary = list(vocabulary)\n",
    "vocabulary.sort()\n",
    "filename_rel_embedding = filename_embedding.replace('.txt','_rel.pkl')\n",
    "if not os.path.exists(filename_rel_embedding):\n",
    "    embedding = load_embedding(filename_embedding, vocabulary)\n",
    "    pickle.dump(embedding,open(filename_rel_embedding,'wb'))\n",
    "else:\n",
    "    embedding = pickle.load(open(filename_rel_embedding,'rb'))\n",
    "vocab_size = len (vocabulary)\n",
    "embed_size = list(embedding.values())[0]['vector'].shape[0]\n",
    "embedding_vectors = np.zeros((vocab_size, embed_size))\n",
    "for v in embedding.values():\n",
    "    vector = v['vector']\n",
    "    token_id = v['token_id']\n",
    "    embedding_vectors[token_id] = vector\n",
    "\n",
    "all_labelclasses = set()\n",
    "for row in train_labels:\n",
    "    all_labelclasses.update(row)\n",
    "all_labelclasses=list(all_labelclasses)\n",
    "all_labelclasses.sort()\n",
    "\n",
    "\n",
    "labelclass_to_id = dict(zip(all_labelclasses,list(range(len(all_labelclasses)))))\n",
    "\n",
    "n_tags = len(list(labelclass_to_id.keys()))\n",
    "\n",
    "\n",
    "max_seq_length = 100\n",
    "\n",
    "# Create datasets (Only take up to max_seq_length words for memory)\n",
    "train_tokens = [t[0:max_seq_length] for t in train_tokens]\n",
    "test_tokens = [t[0:max_seq_length] for t in test_tokens]\n",
    "train_labels = [t[0:max_seq_length] for t in train_labels]\n",
    "test_labels = [t[0:max_seq_length] for t in test_labels]\n",
    "\n",
    "# Convert data to Input format for neural network\n",
    "x_train, y_train = convert_tokens_labels_list_to_ids_list(train_tokens, train_labels, embedding, max_seq_length,labelclass_to_id)\n",
    "x_test, y_test = convert_tokens_labels_list_to_ids_list(test_tokens, test_labels, embedding, max_seq_length,labelclass_to_id)\n"
   ]
  },
  {
   "cell_type": "code",
   "execution_count": 70,
   "metadata": {},
   "outputs": [],
   "source": [
    "## better metrics"
   ]
  },
  {
   "cell_type": "code",
   "execution_count": 71,
   "metadata": {},
   "outputs": [],
   "source": [
    "def recall_m(y_true, y_pred):\n",
    "    true_positives = K.sum(K.round(K.clip(y_true * y_pred, 0, 1)))\n",
    "    possible_positives = K.sum(K.round(K.clip(y_true, 0, 1)))\n",
    "    recall = true_positives / (possible_positives + K.epsilon())\n",
    "    return recall\n",
    "\n",
    "def precision_m(y_true, y_pred):\n",
    "    true_positives = K.sum(K.round(K.clip(y_true * y_pred, 0, 1)))\n",
    "    predicted_positives = K.sum(K.round(K.clip(y_pred, 0, 1)))\n",
    "    precision = true_positives / (predicted_positives + K.epsilon())\n",
    "    return precision\n",
    "\n",
    "def f1_m(y_true, y_pred):\n",
    "    precision = precision_m(y_true, y_pred)\n",
    "    recall = recall_m(y_true, y_pred)\n",
    "    return 2*((precision*recall)/(precision+recall+K.epsilon()))"
   ]
  },
  {
   "cell_type": "code",
   "execution_count": 72,
   "metadata": {},
   "outputs": [],
   "source": [
    "sample_weight = np.ones(shape=(len(y_train),))\n"
   ]
  },
  {
   "cell_type": "code",
   "execution_count": 73,
   "metadata": {},
   "outputs": [
    {
     "name": "stdout",
     "output_type": "stream",
     "text": [
      "Model: \"functional_11\"\n",
      "_________________________________________________________________\n",
      "Layer (type)                 Output Shape              Param #   \n",
      "=================================================================\n",
      "input_6 (InputLayer)         [(None, 100)]             0         \n",
      "_________________________________________________________________\n",
      "embedding_5 (Embedding)      (None, 100, 300)          1694400   \n",
      "_________________________________________________________________\n",
      "time_distributed_5 (TimeDist (None, 100, 3)            903       \n",
      "=================================================================\n",
      "Total params: 1,695,303\n",
      "Trainable params: 903\n",
      "Non-trainable params: 1,694,400\n",
      "_________________________________________________________________\n",
      "Epoch 1/50\n",
      "93/93 [==============================] - 0s 4ms/step - loss: 0.2121 - categorical_accuracy: 0.9210 - accuracy: 0.9210 - f1_m: 0.9157 - precision_m: 0.9552 - recall_m: 0.8828 - val_loss: 0.1246 - val_categorical_accuracy: 0.9646 - val_accuracy: 0.9646 - val_f1_m: 0.9654 - val_precision_m: 0.9763 - val_recall_m: 0.9547\n",
      "Epoch 2/50\n",
      "93/93 [==============================] - 0s 3ms/step - loss: 0.1051 - categorical_accuracy: 0.9684 - accuracy: 0.9684 - f1_m: 0.9688 - precision_m: 0.9760 - recall_m: 0.9617 - val_loss: 0.0994 - val_categorical_accuracy: 0.9704 - val_accuracy: 0.9704 - val_f1_m: 0.9697 - val_precision_m: 0.9753 - val_recall_m: 0.9642\n",
      "Epoch 3/50\n",
      "93/93 [==============================] - 0s 3ms/step - loss: 0.0935 - categorical_accuracy: 0.9710 - accuracy: 0.9710 - f1_m: 0.9706 - precision_m: 0.9745 - recall_m: 0.9668 - val_loss: 0.0935 - val_categorical_accuracy: 0.9707 - val_accuracy: 0.9707 - val_f1_m: 0.9714 - val_precision_m: 0.9751 - val_recall_m: 0.9676\n",
      "Epoch 4/50\n",
      "93/93 [==============================] - 0s 3ms/step - loss: 0.0895 - categorical_accuracy: 0.9713 - accuracy: 0.9713 - f1_m: 0.9716 - precision_m: 0.9748 - recall_m: 0.9684 - val_loss: 0.0906 - val_categorical_accuracy: 0.9707 - val_accuracy: 0.9707 - val_f1_m: 0.9716 - val_precision_m: 0.9753 - val_recall_m: 0.9680\n",
      "Epoch 5/50\n",
      "93/93 [==============================] - 0s 3ms/step - loss: 0.0871 - categorical_accuracy: 0.9715 - accuracy: 0.9715 - f1_m: 0.9715 - precision_m: 0.9746 - recall_m: 0.9685 - val_loss: 0.0886 - val_categorical_accuracy: 0.9710 - val_accuracy: 0.9710 - val_f1_m: 0.9719 - val_precision_m: 0.9753 - val_recall_m: 0.9685\n",
      "Epoch 6/50\n",
      "93/93 [==============================] - 0s 3ms/step - loss: 0.0854 - categorical_accuracy: 0.9718 - accuracy: 0.9718 - f1_m: 0.9722 - precision_m: 0.9750 - recall_m: 0.9694 - val_loss: 0.0870 - val_categorical_accuracy: 0.9709 - val_accuracy: 0.9709 - val_f1_m: 0.9721 - val_precision_m: 0.9754 - val_recall_m: 0.9689\n",
      "Epoch 7/50\n",
      "93/93 [==============================] - 0s 3ms/step - loss: 0.0839 - categorical_accuracy: 0.9721 - accuracy: 0.9721 - f1_m: 0.9719 - precision_m: 0.9747 - recall_m: 0.9692 - val_loss: 0.0857 - val_categorical_accuracy: 0.9712 - val_accuracy: 0.9712 - val_f1_m: 0.9721 - val_precision_m: 0.9753 - val_recall_m: 0.9690\n",
      "Epoch 8/50\n",
      "93/93 [==============================] - 0s 3ms/step - loss: 0.0828 - categorical_accuracy: 0.9724 - accuracy: 0.9724 - f1_m: 0.9727 - precision_m: 0.9753 - recall_m: 0.9701 - val_loss: 0.0846 - val_categorical_accuracy: 0.9711 - val_accuracy: 0.9711 - val_f1_m: 0.9725 - val_precision_m: 0.9760 - val_recall_m: 0.9691\n",
      "Epoch 9/50\n",
      "93/93 [==============================] - 0s 3ms/step - loss: 0.0817 - categorical_accuracy: 0.9730 - accuracy: 0.9730 - f1_m: 0.9731 - precision_m: 0.9758 - recall_m: 0.9704 - val_loss: 0.0837 - val_categorical_accuracy: 0.9720 - val_accuracy: 0.9720 - val_f1_m: 0.9729 - val_precision_m: 0.9761 - val_recall_m: 0.9698\n",
      "Epoch 10/50\n",
      "93/93 [==============================] - 0s 3ms/step - loss: 0.0809 - categorical_accuracy: 0.9733 - accuracy: 0.9733 - f1_m: 0.9732 - precision_m: 0.9757 - recall_m: 0.9708 - val_loss: 0.0828 - val_categorical_accuracy: 0.9728 - val_accuracy: 0.9728 - val_f1_m: 0.9732 - val_precision_m: 0.9766 - val_recall_m: 0.9698\n",
      "Epoch 11/50\n",
      "93/93 [==============================] - 0s 3ms/step - loss: 0.0801 - categorical_accuracy: 0.9736 - accuracy: 0.9736 - f1_m: 0.9736 - precision_m: 0.9762 - recall_m: 0.9710 - val_loss: 0.0821 - val_categorical_accuracy: 0.9731 - val_accuracy: 0.9731 - val_f1_m: 0.9734 - val_precision_m: 0.9770 - val_recall_m: 0.9699\n",
      "Epoch 12/50\n",
      "93/93 [==============================] - 0s 3ms/step - loss: 0.0795 - categorical_accuracy: 0.9738 - accuracy: 0.9738 - f1_m: 0.9738 - precision_m: 0.9762 - recall_m: 0.9713 - val_loss: 0.0816 - val_categorical_accuracy: 0.9731 - val_accuracy: 0.9731 - val_f1_m: 0.9738 - val_precision_m: 0.9768 - val_recall_m: 0.9707\n",
      "Epoch 13/50\n",
      "93/93 [==============================] - 0s 3ms/step - loss: 0.0789 - categorical_accuracy: 0.9738 - accuracy: 0.9738 - f1_m: 0.9739 - precision_m: 0.9765 - recall_m: 0.9714 - val_loss: 0.0811 - val_categorical_accuracy: 0.9733 - val_accuracy: 0.9733 - val_f1_m: 0.9742 - val_precision_m: 0.9777 - val_recall_m: 0.9708\n",
      "Epoch 14/50\n",
      "93/93 [==============================] - 0s 3ms/step - loss: 0.0784 - categorical_accuracy: 0.9744 - accuracy: 0.9744 - f1_m: 0.9740 - precision_m: 0.9768 - recall_m: 0.9713 - val_loss: 0.0806 - val_categorical_accuracy: 0.9738 - val_accuracy: 0.9738 - val_f1_m: 0.9744 - val_precision_m: 0.9778 - val_recall_m: 0.9710\n",
      "Epoch 15/50\n",
      "93/93 [==============================] - 0s 3ms/step - loss: 0.0780 - categorical_accuracy: 0.9744 - accuracy: 0.9744 - f1_m: 0.9743 - precision_m: 0.9768 - recall_m: 0.9719 - val_loss: 0.0803 - val_categorical_accuracy: 0.9740 - val_accuracy: 0.9740 - val_f1_m: 0.9746 - val_precision_m: 0.9777 - val_recall_m: 0.9716\n",
      "Epoch 16/50\n",
      "93/93 [==============================] - 0s 2ms/step - loss: 0.0775 - categorical_accuracy: 0.9745 - accuracy: 0.9745 - f1_m: 0.9741 - precision_m: 0.9767 - recall_m: 0.9715 - val_loss: 0.0799 - val_categorical_accuracy: 0.9739 - val_accuracy: 0.9739 - val_f1_m: 0.9747 - val_precision_m: 0.9779 - val_recall_m: 0.9716\n",
      "Epoch 17/50\n",
      "93/93 [==============================] - 0s 3ms/step - loss: 0.0772 - categorical_accuracy: 0.9746 - accuracy: 0.9746 - f1_m: 0.9745 - precision_m: 0.9771 - recall_m: 0.9718 - val_loss: 0.0797 - val_categorical_accuracy: 0.9740 - val_accuracy: 0.9740 - val_f1_m: 0.9750 - val_precision_m: 0.9786 - val_recall_m: 0.9715\n",
      "Epoch 18/50\n",
      "93/93 [==============================] - 0s 3ms/step - loss: 0.0769 - categorical_accuracy: 0.9746 - accuracy: 0.9746 - f1_m: 0.9749 - precision_m: 0.9777 - recall_m: 0.9722 - val_loss: 0.0793 - val_categorical_accuracy: 0.9742 - val_accuracy: 0.9742 - val_f1_m: 0.9753 - val_precision_m: 0.9787 - val_recall_m: 0.9719\n",
      "Epoch 19/50\n",
      "93/93 [==============================] - 0s 3ms/step - loss: 0.0765 - categorical_accuracy: 0.9748 - accuracy: 0.9748 - f1_m: 0.9749 - precision_m: 0.9776 - recall_m: 0.9722 - val_loss: 0.0790 - val_categorical_accuracy: 0.9746 - val_accuracy: 0.9746 - val_f1_m: 0.9753 - val_precision_m: 0.9787 - val_recall_m: 0.9720\n",
      "Epoch 20/50\n",
      "93/93 [==============================] - 0s 2ms/step - loss: 0.0762 - categorical_accuracy: 0.9750 - accuracy: 0.9750 - f1_m: 0.9753 - precision_m: 0.9778 - recall_m: 0.9728 - val_loss: 0.0789 - val_categorical_accuracy: 0.9751 - val_accuracy: 0.9751 - val_f1_m: 0.9755 - val_precision_m: 0.9789 - val_recall_m: 0.9722\n",
      "Epoch 21/50\n",
      "93/93 [==============================] - 0s 3ms/step - loss: 0.0759 - categorical_accuracy: 0.9752 - accuracy: 0.9752 - f1_m: 0.9752 - precision_m: 0.9777 - recall_m: 0.9727 - val_loss: 0.0787 - val_categorical_accuracy: 0.9750 - val_accuracy: 0.9750 - val_f1_m: 0.9756 - val_precision_m: 0.9788 - val_recall_m: 0.9725\n",
      "Epoch 22/50\n",
      "93/93 [==============================] - 0s 3ms/step - loss: 0.0757 - categorical_accuracy: 0.9753 - accuracy: 0.9753 - f1_m: 0.9755 - precision_m: 0.9779 - recall_m: 0.9731 - val_loss: 0.0786 - val_categorical_accuracy: 0.9750 - val_accuracy: 0.9750 - val_f1_m: 0.9758 - val_precision_m: 0.9789 - val_recall_m: 0.9727\n",
      "Epoch 23/50\n",
      "93/93 [==============================] - 0s 3ms/step - loss: 0.0754 - categorical_accuracy: 0.9755 - accuracy: 0.9755 - f1_m: 0.9757 - precision_m: 0.9782 - recall_m: 0.9733 - val_loss: 0.0783 - val_categorical_accuracy: 0.9750 - val_accuracy: 0.9750 - val_f1_m: 0.9760 - val_precision_m: 0.9789 - val_recall_m: 0.9731\n",
      "Epoch 24/50\n",
      "93/93 [==============================] - 0s 3ms/step - loss: 0.0752 - categorical_accuracy: 0.9756 - accuracy: 0.9756 - f1_m: 0.9756 - precision_m: 0.9780 - recall_m: 0.9732 - val_loss: 0.0782 - val_categorical_accuracy: 0.9750 - val_accuracy: 0.9750 - val_f1_m: 0.9760 - val_precision_m: 0.9790 - val_recall_m: 0.9731\n",
      "Epoch 25/50\n",
      "93/93 [==============================] - 0s 4ms/step - loss: 0.0750 - categorical_accuracy: 0.9756 - accuracy: 0.9756 - f1_m: 0.9755 - precision_m: 0.9778 - recall_m: 0.9732 - val_loss: 0.0782 - val_categorical_accuracy: 0.9751 - val_accuracy: 0.9751 - val_f1_m: 0.9760 - val_precision_m: 0.9793 - val_recall_m: 0.9728\n",
      "Epoch 26/50\n",
      "93/93 [==============================] - 0s 4ms/step - loss: 0.0748 - categorical_accuracy: 0.9757 - accuracy: 0.9757 - f1_m: 0.9761 - precision_m: 0.9785 - recall_m: 0.9738 - val_loss: 0.0779 - val_categorical_accuracy: 0.9749 - val_accuracy: 0.9749 - val_f1_m: 0.9761 - val_precision_m: 0.9791 - val_recall_m: 0.9730\n",
      "Epoch 27/50\n",
      "93/93 [==============================] - 0s 4ms/step - loss: 0.0746 - categorical_accuracy: 0.9758 - accuracy: 0.9758 - f1_m: 0.9757 - precision_m: 0.9781 - recall_m: 0.9733 - val_loss: 0.0779 - val_categorical_accuracy: 0.9749 - val_accuracy: 0.9749 - val_f1_m: 0.9762 - val_precision_m: 0.9793 - val_recall_m: 0.9732\n",
      "Epoch 28/50\n",
      "93/93 [==============================] - 0s 3ms/step - loss: 0.0744 - categorical_accuracy: 0.9758 - accuracy: 0.9758 - f1_m: 0.9761 - precision_m: 0.9784 - recall_m: 0.9739 - val_loss: 0.0778 - val_categorical_accuracy: 0.9749 - val_accuracy: 0.9749 - val_f1_m: 0.9762 - val_precision_m: 0.9793 - val_recall_m: 0.9731\n",
      "Epoch 29/50\n",
      "93/93 [==============================] - 0s 3ms/step - loss: 0.0742 - categorical_accuracy: 0.9760 - accuracy: 0.9760 - f1_m: 0.9760 - precision_m: 0.9782 - recall_m: 0.9738 - val_loss: 0.0779 - val_categorical_accuracy: 0.9751 - val_accuracy: 0.9751 - val_f1_m: 0.9762 - val_precision_m: 0.9793 - val_recall_m: 0.9731\n",
      "Epoch 30/50\n",
      "93/93 [==============================] - 0s 3ms/step - loss: 0.0742 - categorical_accuracy: 0.9761 - accuracy: 0.9761 - f1_m: 0.9763 - precision_m: 0.9786 - recall_m: 0.9740 - val_loss: 0.0775 - val_categorical_accuracy: 0.9750 - val_accuracy: 0.9750 - val_f1_m: 0.9763 - val_precision_m: 0.9791 - val_recall_m: 0.9734\n",
      "Epoch 31/50\n",
      "93/93 [==============================] - 0s 3ms/step - loss: 0.0739 - categorical_accuracy: 0.9762 - accuracy: 0.9762 - f1_m: 0.9763 - precision_m: 0.9784 - recall_m: 0.9742 - val_loss: 0.0776 - val_categorical_accuracy: 0.9753 - val_accuracy: 0.9753 - val_f1_m: 0.9763 - val_precision_m: 0.9791 - val_recall_m: 0.9734\n",
      "Epoch 32/50\n",
      "93/93 [==============================] - 0s 3ms/step - loss: 0.0738 - categorical_accuracy: 0.9762 - accuracy: 0.9762 - f1_m: 0.9765 - precision_m: 0.9786 - recall_m: 0.9745 - val_loss: 0.0774 - val_categorical_accuracy: 0.9752 - val_accuracy: 0.9752 - val_f1_m: 0.9762 - val_precision_m: 0.9790 - val_recall_m: 0.9736\n",
      "Epoch 33/50\n",
      "93/93 [==============================] - 0s 3ms/step - loss: 0.0737 - categorical_accuracy: 0.9762 - accuracy: 0.9762 - f1_m: 0.9764 - precision_m: 0.9784 - recall_m: 0.9744 - val_loss: 0.0773 - val_categorical_accuracy: 0.9751 - val_accuracy: 0.9751 - val_f1_m: 0.9761 - val_precision_m: 0.9787 - val_recall_m: 0.9736\n",
      "Epoch 34/50\n",
      "93/93 [==============================] - 0s 3ms/step - loss: 0.0735 - categorical_accuracy: 0.9763 - accuracy: 0.9763 - f1_m: 0.9765 - precision_m: 0.9784 - recall_m: 0.9745 - val_loss: 0.0774 - val_categorical_accuracy: 0.9754 - val_accuracy: 0.9754 - val_f1_m: 0.9762 - val_precision_m: 0.9791 - val_recall_m: 0.9733\n",
      "Epoch 35/50\n",
      "93/93 [==============================] - 0s 3ms/step - loss: 0.0734 - categorical_accuracy: 0.9763 - accuracy: 0.9763 - f1_m: 0.9759 - precision_m: 0.9779 - recall_m: 0.9740 - val_loss: 0.0776 - val_categorical_accuracy: 0.9755 - val_accuracy: 0.9755 - val_f1_m: 0.9761 - val_precision_m: 0.9791 - val_recall_m: 0.9731\n",
      "Epoch 36/50\n",
      "93/93 [==============================] - 0s 3ms/step - loss: 0.0734 - categorical_accuracy: 0.9764 - accuracy: 0.9764 - f1_m: 0.9766 - precision_m: 0.9786 - recall_m: 0.9747 - val_loss: 0.0772 - val_categorical_accuracy: 0.9755 - val_accuracy: 0.9755 - val_f1_m: 0.9762 - val_precision_m: 0.9788 - val_recall_m: 0.9735\n",
      "Epoch 37/50\n",
      "93/93 [==============================] - 0s 3ms/step - loss: 0.0732 - categorical_accuracy: 0.9764 - accuracy: 0.9764 - f1_m: 0.9764 - precision_m: 0.9783 - recall_m: 0.9745 - val_loss: 0.0773 - val_categorical_accuracy: 0.9757 - val_accuracy: 0.9757 - val_f1_m: 0.9761 - val_precision_m: 0.9789 - val_recall_m: 0.9733\n",
      "Epoch 38/50\n",
      "93/93 [==============================] - 0s 3ms/step - loss: 0.0731 - categorical_accuracy: 0.9764 - accuracy: 0.9764 - f1_m: 0.9767 - precision_m: 0.9786 - recall_m: 0.9747 - val_loss: 0.0770 - val_categorical_accuracy: 0.9760 - val_accuracy: 0.9760 - val_f1_m: 0.9761 - val_precision_m: 0.9787 - val_recall_m: 0.9736\n",
      "Epoch 39/50\n",
      "93/93 [==============================] - 0s 3ms/step - loss: 0.0730 - categorical_accuracy: 0.9764 - accuracy: 0.9764 - f1_m: 0.9767 - precision_m: 0.9785 - recall_m: 0.9748 - val_loss: 0.0770 - val_categorical_accuracy: 0.9758 - val_accuracy: 0.9758 - val_f1_m: 0.9761 - val_precision_m: 0.9788 - val_recall_m: 0.9735\n",
      "Epoch 40/50\n",
      "93/93 [==============================] - 0s 3ms/step - loss: 0.0729 - categorical_accuracy: 0.9764 - accuracy: 0.9764 - f1_m: 0.9768 - precision_m: 0.9787 - recall_m: 0.9750 - val_loss: 0.0768 - val_categorical_accuracy: 0.9759 - val_accuracy: 0.9759 - val_f1_m: 0.9761 - val_precision_m: 0.9785 - val_recall_m: 0.9738\n",
      "Epoch 41/50\n",
      "93/93 [==============================] - 0s 3ms/step - loss: 0.0728 - categorical_accuracy: 0.9764 - accuracy: 0.9764 - f1_m: 0.9763 - precision_m: 0.9782 - recall_m: 0.9744 - val_loss: 0.0769 - val_categorical_accuracy: 0.9758 - val_accuracy: 0.9758 - val_f1_m: 0.9763 - val_precision_m: 0.9788 - val_recall_m: 0.9739\n",
      "Epoch 42/50\n",
      "93/93 [==============================] - 0s 3ms/step - loss: 0.0727 - categorical_accuracy: 0.9765 - accuracy: 0.9765 - f1_m: 0.9768 - precision_m: 0.9787 - recall_m: 0.9748 - val_loss: 0.0767 - val_categorical_accuracy: 0.9759 - val_accuracy: 0.9759 - val_f1_m: 0.9763 - val_precision_m: 0.9785 - val_recall_m: 0.9741\n",
      "Epoch 43/50\n",
      "93/93 [==============================] - 0s 3ms/step - loss: 0.0726 - categorical_accuracy: 0.9764 - accuracy: 0.9764 - f1_m: 0.9762 - precision_m: 0.9782 - recall_m: 0.9742 - val_loss: 0.0767 - val_categorical_accuracy: 0.9762 - val_accuracy: 0.9762 - val_f1_m: 0.9765 - val_precision_m: 0.9787 - val_recall_m: 0.9743\n",
      "Epoch 44/50\n",
      "93/93 [==============================] - 0s 3ms/step - loss: 0.0726 - categorical_accuracy: 0.9765 - accuracy: 0.9765 - f1_m: 0.9764 - precision_m: 0.9784 - recall_m: 0.9745 - val_loss: 0.0769 - val_categorical_accuracy: 0.9761 - val_accuracy: 0.9761 - val_f1_m: 0.9765 - val_precision_m: 0.9788 - val_recall_m: 0.9742\n",
      "Epoch 45/50\n",
      "93/93 [==============================] - 0s 3ms/step - loss: 0.0725 - categorical_accuracy: 0.9766 - accuracy: 0.9766 - f1_m: 0.9769 - precision_m: 0.9788 - recall_m: 0.9750 - val_loss: 0.0766 - val_categorical_accuracy: 0.9762 - val_accuracy: 0.9762 - val_f1_m: 0.9766 - val_precision_m: 0.9788 - val_recall_m: 0.9743\n",
      "Epoch 46/50\n",
      "93/93 [==============================] - 0s 3ms/step - loss: 0.0724 - categorical_accuracy: 0.9766 - accuracy: 0.9766 - f1_m: 0.9767 - precision_m: 0.9786 - recall_m: 0.9749 - val_loss: 0.0766 - val_categorical_accuracy: 0.9762 - val_accuracy: 0.9762 - val_f1_m: 0.9765 - val_precision_m: 0.9787 - val_recall_m: 0.9744\n",
      "Epoch 47/50\n",
      "93/93 [==============================] - 0s 3ms/step - loss: 0.0724 - categorical_accuracy: 0.9766 - accuracy: 0.9766 - f1_m: 0.9769 - precision_m: 0.9789 - recall_m: 0.9750 - val_loss: 0.0769 - val_categorical_accuracy: 0.9758 - val_accuracy: 0.9758 - val_f1_m: 0.9763 - val_precision_m: 0.9787 - val_recall_m: 0.9738\n",
      "Epoch 48/50\n",
      "93/93 [==============================] - 0s 3ms/step - loss: 0.0723 - categorical_accuracy: 0.9766 - accuracy: 0.9766 - f1_m: 0.9768 - precision_m: 0.9788 - recall_m: 0.9749 - val_loss: 0.0767 - val_categorical_accuracy: 0.9760 - val_accuracy: 0.9760 - val_f1_m: 0.9765 - val_precision_m: 0.9787 - val_recall_m: 0.9743\n",
      "Epoch 49/50\n",
      "93/93 [==============================] - 0s 4ms/step - loss: 0.0723 - categorical_accuracy: 0.9766 - accuracy: 0.9766 - f1_m: 0.9767 - precision_m: 0.9788 - recall_m: 0.9747 - val_loss: 0.0766 - val_categorical_accuracy: 0.9761 - val_accuracy: 0.9761 - val_f1_m: 0.9764 - val_precision_m: 0.9787 - val_recall_m: 0.9742\n",
      "Epoch 50/50\n",
      "93/93 [==============================] - 0s 3ms/step - loss: 0.0722 - categorical_accuracy: 0.9767 - accuracy: 0.9767 - f1_m: 0.9765 - precision_m: 0.9784 - recall_m: 0.9745 - val_loss: 0.0766 - val_categorical_accuracy: 0.9760 - val_accuracy: 0.9760 - val_f1_m: 0.9763 - val_precision_m: 0.9787 - val_recall_m: 0.9740\n"
     ]
    }
   ],
   "source": [
    "# neural network model in keras\n",
    "# see keras documentation for functions of different layers and structure of networks.\n",
    "\n",
    "# the following two layers should not be changed.\n",
    "input_layer = Input(shape=(max_seq_length,))\n",
    "embedding_layer = Embedding(vocab_size, 300, weights=[embedding_vectors], input_length=max_seq_length, trainable= False)(input_layer)\n",
    "\n",
    "# here, attention models have to be implemented in this model\n",
    "# ...\n",
    "\n",
    "# this last layer can/should be modified\n",
    "output_layer = TimeDistributed(Dense(n_tags, activation=\"softmax\"))(embedding_layer)\n",
    "\n",
    "model = Model(inputs=input_layer, outputs=output_layer)\n",
    "model.compile(loss=\"categorical_crossentropy\", optimizer='adam', metrics=[\"categorical_accuracy\", \"accuracy\", f1_m,precision_m, recall_m])\n",
    "model.summary()\n",
    "\n",
    "# fit model on train data\n",
    "history = model.fit(x_train, y_train,\n",
    "          batch_size=32,\n",
    "          #validation_split = 0.2,\n",
    "          verbose = 1,\n",
    "          validation_data=(x_test, y_test),\n",
    "          shuffle = True,\n",
    "          epochs=50)"
   ]
  },
  {
   "cell_type": "markdown",
   "metadata": {},
   "source": [
    "### GIVEN EVAL\n",
    "- scheme provided by university"
   ]
  },
  {
   "cell_type": "code",
   "execution_count": 74,
   "metadata": {},
   "outputs": [
    {
     "data": {
      "text/html": [
       "<div>\n",
       "<style scoped>\n",
       "    .dataframe tbody tr th:only-of-type {\n",
       "        vertical-align: middle;\n",
       "    }\n",
       "\n",
       "    .dataframe tbody tr th {\n",
       "        vertical-align: top;\n",
       "    }\n",
       "\n",
       "    .dataframe thead th {\n",
       "        text-align: right;\n",
       "    }\n",
       "</style>\n",
       "<table border=\"1\" class=\"dataframe\">\n",
       "  <thead>\n",
       "    <tr style=\"text-align: right;\">\n",
       "      <th></th>\n",
       "      <th>B_S_pred</th>\n",
       "      <th>I_S_pred</th>\n",
       "      <th>O_pred</th>\n",
       "    </tr>\n",
       "  </thead>\n",
       "  <tbody>\n",
       "    <tr>\n",
       "      <th>B_S_true</th>\n",
       "      <td>88.0</td>\n",
       "      <td>1.0</td>\n",
       "      <td>166.0</td>\n",
       "    </tr>\n",
       "    <tr>\n",
       "      <th>I_S_true</th>\n",
       "      <td>17.0</td>\n",
       "      <td>5.0</td>\n",
       "      <td>153.0</td>\n",
       "    </tr>\n",
       "    <tr>\n",
       "      <th>O_true</th>\n",
       "      <td>33.0</td>\n",
       "      <td>4.0</td>\n",
       "      <td>2393.0</td>\n",
       "    </tr>\n",
       "  </tbody>\n",
       "</table>\n",
       "</div>"
      ],
      "text/plain": [
       "          B_S_pred  I_S_pred  O_pred\n",
       "B_S_true      88.0       1.0   166.0\n",
       "I_S_true      17.0       5.0   153.0\n",
       "O_true        33.0       4.0  2393.0"
      ]
     },
     "metadata": {},
     "output_type": "display_data"
    },
    {
     "name": "stdout",
     "output_type": "stream",
     "text": [
      "check gt 0\n",
      "88.0\n",
      "\n",
      "CLASS = 0\n",
      "precision\n",
      "0.6376811594202898\n",
      "recall\n",
      "0.34509803921568627\n",
      "f1\n",
      "0.44783715012722647\n",
      "check gt 0\n",
      "5.0\n",
      "\n",
      "CLASS = 1\n",
      "precision\n",
      "0.5\n",
      "recall\n",
      "0.02857142857142857\n",
      "f1\n",
      "0.05405405405405405\n",
      "check gt 0\n",
      "2393.0\n",
      "\n",
      "CLASS = 2\n",
      "precision\n",
      "0.8823746312684366\n",
      "recall\n",
      "0.9847736625514403\n",
      "f1\n",
      "0.9307662388175807\n",
      "\n",
      "Precision: 0.6733519302295754\n",
      "Recall: 0.45281437677951836\n",
      "F1-measure: 0.5414891792491335\n",
      "\n",
      "\n",
      "dict_keys(['loss', 'categorical_accuracy', 'accuracy', 'f1_m', 'precision_m', 'recall_m', 'val_loss', 'val_categorical_accuracy', 'val_accuracy', 'val_f1_m', 'val_precision_m', 'val_recall_m'])\n"
     ]
    }
   ],
   "source": [
    "## evaluation\n",
    "# predict labels of test data\n",
    "y_test_pred_prob = model.predict(x_test)\n",
    "y_test_pred_sparse = y_test_pred_prob.argmax(axis=-1)\n",
    "y_test_pred = to_categorical(np.array(y_test_pred_sparse), num_classes=n_tags)\n",
    "\n",
    "# compute confusion matrix\n",
    "conf_matrix = np.zeros((n_tags, n_tags))\n",
    "for i,tokens in enumerate(test_tokens):\n",
    "    for j,_ in enumerate(tokens):\n",
    "        class_true = y_test[i,j].argmax()\n",
    "        class_pred = y_test_pred[i,j].argmax()\n",
    "        conf_matrix[class_true,class_pred] += 1\n",
    "names_rows = list(s+'_true' for s in labelclass_to_id.keys())\n",
    "names_columns = list(s+'_pred' for s in labelclass_to_id.keys())\n",
    "conf_matrix = pd.DataFrame(data=conf_matrix,index=names_rows,columns=names_columns)\n",
    "display(conf_matrix)\n",
    "\n",
    "# compute final evaluation measures\n",
    "precision_per_class = np.zeros((n_tags,))\n",
    "recall_per_class = np.zeros((n_tags,))\n",
    "for i in range(n_tags):\n",
    "    \n",
    "    print(\"check gt 0\")\n",
    "    print(conf_matrix.values[i,i])\n",
    "    print(\"\")\n",
    "    if conf_matrix.values[i,i] > 0:\n",
    "        print(\"CLASS = \"+str(i))\n",
    "        precision_per_class[i] = conf_matrix.values[i,i]/sum(conf_matrix.values[:,i])\n",
    "        print(\"precision\")\n",
    "        print(precision_per_class[i])\n",
    "        recall_per_class[i] = conf_matrix.values[i,i]/sum(conf_matrix.values[i,:])\n",
    "        print(\"recall\")\n",
    "        print(recall_per_class[i])\n",
    "        print(\"f1\")\n",
    "        f1_class = 2*(precision_per_class[i]*recall_per_class[i])/(precision_per_class[i]+recall_per_class[i])\n",
    "        print(f1_class)\n",
    "    else:\n",
    "        print(\"no (0) precision or recall for class \"+str(i))\n",
    "precision = np.mean(precision_per_class)\n",
    "recall = np.mean(recall_per_class)\n",
    "f1 = 2*(precision*recall)/(precision+recall)\n",
    "print()\n",
    "print('Precision: '+str(precision))\n",
    "print('Recall: '+str(recall))\n",
    "print('F1-measure: '+str(f1))\n",
    "\n",
    "print(\"\\n\")\n",
    "print(history.history.keys())"
   ]
  },
  {
   "cell_type": "markdown",
   "metadata": {},
   "source": [
    "### OWN EVAL"
   ]
  },
  {
   "cell_type": "code",
   "execution_count": 21,
   "metadata": {},
   "outputs": [
    {
     "data": {
      "image/png": "[encoded data removed]",
      "text/plain": [
       "<Figure size 432x288 with 1 Axes>"
      ]
     },
     "metadata": {
      "needs_background": "light"
     },
     "output_type": "display_data"
    },
    {
     "data": {
      "image/png": "[encoded data removed]",
      "text/plain": [
       "<Figure size 432x288 with 1 Axes>"
      ]
     },
     "metadata": {
      "needs_background": "light"
     },
     "output_type": "display_data"
    }
   ],
   "source": [
    "#this eval only works, if we use validation_split = 0.2 as additional parameter for model.fit()\n",
    "\n",
    "# summarize history for accuracy\n",
    "plt.plot(history.history['accuracy'])\n",
    "plt.plot(history.history['val_accuracy'])\n",
    "plt.title('model accuracy')\n",
    "plt.ylabel('accuracy')\n",
    "plt.xlabel('epoch')\n",
    "plt.legend(['train', 'test'], loc='upper left')\n",
    "plt.show()\n",
    "# summarize history for loss\n",
    "plt.plot(history.history['loss'])\n",
    "plt.plot(history.history['val_loss'])\n",
    "plt.title('model loss')\n",
    "plt.ylabel('loss')\n",
    "plt.xlabel('epoch')\n",
    "plt.legend(['train', 'test'], loc='upper left')\n",
    "plt.show()\n"
   ]
  },
  {
   "cell_type": "code",
   "execution_count": null,
   "metadata": {},
   "outputs": [],
   "source": []
  }
 ],
 "metadata": {
  "kernelspec": {
   "display_name": "Python 3",
   "language": "python",
   "name": "python3"
  },
  "language_info": {
   "codemirror_mode": {
    "name": "ipython",
    "version": 3
   },
   "file_extension": ".py",
   "mimetype": "text/x-python",
   "name": "python",
   "nbconvert_exporter": "python",
   "pygments_lexer": "ipython3",
   "version": "3.8.2"
  }
 },
 "nbformat": 4,
 "nbformat_minor": 4
}
