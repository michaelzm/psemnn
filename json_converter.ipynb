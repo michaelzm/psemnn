{
 "cells": [
  {
   "cell_type": "code",
   "execution_count": 1,
   "metadata": {},
   "outputs": [],
   "source": [
    "import pandas as pd\n",
    "import json\n",
    "import numpy as np\n",
    "import openpyxl"
   ]
  },
  {
   "cell_type": "markdown",
   "metadata": {},
   "source": [
    "#columns are \n",
    "- Index\n",
    "- Textdatei\n",
    "- User\n",
    "- Sentence number\n",
    "- Token\n",
    "- aspects\n",
    "- aspects_uncertainty\n",
    "- modifiers\n",
    "- modifiers_uncertainty\n",
    "- sentiments\n",
    "- sentiments_uncertainty\n",
    "- sentiments_difficulty"
   ]
  },
  {
   "cell_type": "code",
   "execution_count": 2,
   "metadata": {},
   "outputs": [],
   "source": [
    "df = pd.DataFrame(columns=['Name'])"
   ]
  },
  {
   "cell_type": "code",
   "execution_count": 3,
   "metadata": {},
   "outputs": [],
   "source": [
    "fileToWrite = []"
   ]
  },
  {
   "cell_type": "code",
   "execution_count": 4,
   "metadata": {},
   "outputs": [],
   "source": [
    "with open(\"data_laptop_absa.json\",'r', encoding='utf8') as infile:\n",
    "    example_data = json.load(infile)"
   ]
  },
  {
   "cell_type": "code",
   "execution_count": 43,
   "metadata": {},
   "outputs": [],
   "source": [
    "counter = 1\n",
    "rowEntry = []\n",
    "for i,(k,v) in enumerate(example_data.items()):\n",
    "    if i < 99999:\n",
    "        #print(k,v)\n",
    "        #print(len(v[\"tokens\"]))\n",
    "    \n",
    "        #add Index when inserting into df\n",
    "        #add textFileName\n",
    "        \n",
    "        curr_users = [s for s in v.keys() if s != \"tokens\"]\n",
    "        for usr in curr_users:\n",
    "            sent_num = k +usr\n",
    "            for tok_idx in range(len(v[\"tokens\"])):\n",
    "                #print(v[\"tokens\"][tok_idx])\n",
    "                curr_entry = []\n",
    "                curr_entry.append(counter)\n",
    "                counter+=1\n",
    "                curr_entry.append(k)\n",
    "                curr_entry.append(usr)\n",
    "                curr_entry.append(sent_num)\n",
    "                curr_entry.append(v[\"tokens\"][tok_idx])\n",
    "                #now check if that token got labeld\n",
    "                #if so, add the data to the field\n",
    "                #else add \"\"\n",
    "                json_keys_user = v[usr].keys()\n",
    "                for usr_label in json_keys_user:\n",
    "                    #print(usr_label)\n",
    "                    #we only need to check the current tok_idx\n",
    "                    lab = v[usr][usr_label][tok_idx]\n",
    "                    if lab == \"O\":\n",
    "                        curr_entry.append(\"\")\n",
    "                    else:\n",
    "                        curr_entry.append(lab)\n",
    "                #now add the curr_entry to rowEntry\n",
    "                rowEntry.append(curr_entry)\n",
    "            #print(rowEntry)\n",
    "        #tokens = v.get('tokens')\n",
    "        #tokens = [token.lower() for token in tokens]\n",
    "        #example_data[k]['tokens'] = tokens\n",
    "#print(rowEntry)"
   ]
  },
  {
   "cell_type": "code",
   "execution_count": 37,
   "metadata": {},
   "outputs": [],
   "source": [
    "df = pd.DataFrame(columns=[\n",
    "    \"Index\",\n",
    "    \"Textdatei\",\n",
    "    \"User\",\n",
    "    \"Sentence number\",\n",
    "    \"Token\",\n",
    "    \"aspects\",\n",
    "    \"aspects_uncertainty\",\n",
    "    \"sentiments\",\n",
    "    \"sentiments_uncertainty\",\n",
    "    \"sentiments_difficulty\",\n",
    "    \"modifiers\",\n",
    "    \"modifiers_uncertainty\"])"
   ]
  },
  {
   "cell_type": "code",
   "execution_count": 70,
   "metadata": {},
   "outputs": [
    {
     "name": "stdout",
     "output_type": "stream",
     "text": [
      "Empty DataFrame\n",
      "Columns: [Index, Textdatei, User, Sentence number, Token, aspects, aspects_uncertainty, sentiments, sentiments_uncertainty, sentiments_difficulty, modifiers, modifiers_uncertainty]\n",
      "Index: []\n"
     ]
    }
   ],
   "source": [
    "print(df)"
   ]
  },
  {
   "cell_type": "code",
   "execution_count": 44,
   "metadata": {},
   "outputs": [],
   "source": [
    "dataset = np.array(rowEntry)"
   ]
  },
  {
   "cell_type": "code",
   "execution_count": 45,
   "metadata": {},
   "outputs": [
    {
     "name": "stdout",
     "output_type": "stream",
     "text": [
      "[['1' 'rev_101158.txt|0' 'laptop_user_10' ... '' '' '']\n",
      " ['2' 'rev_101158.txt|0' 'laptop_user_10' ... '' '' '']\n",
      " ['3' 'rev_101158.txt|0' 'laptop_user_10' ... '' '' '']\n",
      " ...\n",
      " ['154920' 'rev_99584.txt|10' 'laptop_user_22' ... '' '' '']\n",
      " ['154921' 'rev_99974.txt|0' 'laptop_user_10' ... '' '' '']\n",
      " ['154922' 'rev_99974.txt|0' 'laptop_user_19' ... '' '' '']]\n"
     ]
    }
   ],
   "source": [
    "print(dataset)"
   ]
  },
  {
   "cell_type": "code",
   "execution_count": 30,
   "metadata": {
    "jupyter": {
     "source_hidden": true
    }
   },
   "outputs": [],
   "source": [
    "dataframe = pd.DataFrame.from_records(dataset)"
   ]
  },
  {
   "cell_type": "code",
   "execution_count": 31,
   "metadata": {
    "collapsed": true,
    "jupyter": {
     "outputs_hidden": true,
     "source_hidden": true
    }
   },
   "outputs": [
    {
     "name": "stdout",
     "output_type": "stream",
     "text": [
      "      0                 1               2                               3   \\\n",
      "0      1  rev_101158.txt|0  laptop_user_10  rev_101158.txt|0laptop_user_10   \n",
      "1      2  rev_101158.txt|0  laptop_user_10  rev_101158.txt|0laptop_user_10   \n",
      "2      3  rev_101158.txt|0  laptop_user_10  rev_101158.txt|0laptop_user_10   \n",
      "3      4  rev_101158.txt|0  laptop_user_10  rev_101158.txt|0laptop_user_10   \n",
      "4      5  rev_101158.txt|0  laptop_user_21  rev_101158.txt|0laptop_user_21   \n",
      "...   ..               ...             ...                             ...   \n",
      "9742  32  rev_123954.txt|4  laptop_user_19  rev_123954.txt|4laptop_user_19   \n",
      "9743  33  rev_123954.txt|4  laptop_user_19  rev_123954.txt|4laptop_user_19   \n",
      "9744  34  rev_123954.txt|4  laptop_user_19  rev_123954.txt|4laptop_user_19   \n",
      "9745  35  rev_123954.txt|4  laptop_user_19  rev_123954.txt|4laptop_user_19   \n",
      "9746  36  rev_123954.txt|4  laptop_user_19  rev_123954.txt|4laptop_user_19   \n",
      "\n",
      "               4    5  6    7  8  9   10 11  \n",
      "0        Computer  B_A                       \n",
      "1           works                            \n",
      "2           great          B_S               \n",
      "3               .                            \n",
      "4        Computer  B_A                       \n",
      "...           ...  ... ..  ... .. ..  .. ..  \n",
      "9742  paperweight          B_S               \n",
      "9743            ,                            \n",
      "9744          not                     BM     \n",
      "9745            a                            \n",
      "9746   functional          B_S               \n",
      "\n",
      "[9747 rows x 12 columns]\n"
     ]
    }
   ],
   "source": [
    "print(dataframe)"
   ]
  },
  {
   "cell_type": "code",
   "execution_count": 46,
   "metadata": {},
   "outputs": [],
   "source": [
    "df_2 = pd.DataFrame(data=dataset, columns=[\n",
    "    \"Index\",\n",
    "    \"Textdatei\",\n",
    "    \"User\",\n",
    "    \"Sentence number\",\n",
    "    \"Token\",\n",
    "    \"aspects\",\n",
    "    \"aspects_uncertainty\",\n",
    "    \"sentiments\",\n",
    "    \"sentiments_uncertainty\",\n",
    "    \"sentiments_difficulty\",\n",
    "    \"modifiers\",\n",
    "    \"modifiers_uncertainty\"])"
   ]
  },
  {
   "cell_type": "code",
   "execution_count": 47,
   "metadata": {},
   "outputs": [
    {
     "name": "stdout",
     "output_type": "stream",
     "text": [
      "         Index         Textdatei            User  \\\n",
      "0            1  rev_101158.txt|0  laptop_user_10   \n",
      "1            2  rev_101158.txt|0  laptop_user_10   \n",
      "2            3  rev_101158.txt|0  laptop_user_10   \n",
      "3            4  rev_101158.txt|0  laptop_user_10   \n",
      "4            5  rev_101158.txt|0  laptop_user_21   \n",
      "...        ...               ...             ...   \n",
      "154917  154918  rev_99584.txt|10  laptop_user_22   \n",
      "154918  154919  rev_99584.txt|10  laptop_user_22   \n",
      "154919  154920  rev_99584.txt|10  laptop_user_22   \n",
      "154920  154921   rev_99974.txt|0  laptop_user_10   \n",
      "154921  154922   rev_99974.txt|0  laptop_user_19   \n",
      "\n",
      "                       Sentence number      Token aspects aspects_uncertainty  \\\n",
      "0       rev_101158.txt|0laptop_user_10   Computer     B_A                       \n",
      "1       rev_101158.txt|0laptop_user_10      works                               \n",
      "2       rev_101158.txt|0laptop_user_10      great                               \n",
      "3       rev_101158.txt|0laptop_user_10          .                               \n",
      "4       rev_101158.txt|0laptop_user_21   Computer     B_A                       \n",
      "...                                ...        ...     ...                 ...   \n",
      "154917  rev_99584.txt|10laptop_user_22       star                               \n",
      "154918  rev_99584.txt|10laptop_user_22  reduction                               \n",
      "154919  rev_99584.txt|10laptop_user_22          .                               \n",
      "154920   rev_99974.txt|0laptop_user_10      great     B_A                       \n",
      "154921   rev_99974.txt|0laptop_user_19      great     B_A                       \n",
      "\n",
      "       sentiments sentiments_uncertainty sentiments_difficulty modifiers  \\\n",
      "0                                                                          \n",
      "1                                                                          \n",
      "2             B_S                                                          \n",
      "3                                                                          \n",
      "4                                                                          \n",
      "...           ...                    ...                   ...       ...   \n",
      "154917        I_S                                                          \n",
      "154918                                                                     \n",
      "154919                                                                     \n",
      "154920        B_S                                                          \n",
      "154921        B_S                                                          \n",
      "\n",
      "       modifiers_uncertainty  \n",
      "0                             \n",
      "1                             \n",
      "2                             \n",
      "3                             \n",
      "4                             \n",
      "...                      ...  \n",
      "154917                        \n",
      "154918                        \n",
      "154919                        \n",
      "154920                        \n",
      "154921                        \n",
      "\n",
      "[154922 rows x 12 columns]\n"
     ]
    }
   ],
   "source": [
    "print(df_2)"
   ]
  },
  {
   "cell_type": "code",
   "execution_count": 48,
   "metadata": {},
   "outputs": [],
   "source": [
    "df_2.to_excel(\"all_reviews.xlsx\",\n",
    "             sheet_name='all_reviews')  "
   ]
  },
  {
   "cell_type": "code",
   "execution_count": null,
   "metadata": {},
   "outputs": [],
   "source": []
  }
 ],
 "metadata": {
  "kernelspec": {
   "display_name": "Python 3",
   "language": "python",
   "name": "python3"
  },
  "language_info": {
   "codemirror_mode": {
    "name": "ipython",
    "version": 3
   },
   "file_extension": ".py",
   "mimetype": "text/x-python",
   "name": "python",
   "nbconvert_exporter": "python",
   "pygments_lexer": "ipython3",
   "version": "3.8.2"
  }
 },
 "nbformat": 4,
 "nbformat_minor": 4
}
